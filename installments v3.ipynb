{
 "cells": [
  {
   "cell_type": "code",
   "execution_count": 134,
   "id": "3a10a91b",
   "metadata": {},
   "outputs": [],
   "source": [
    "import pandas as pd\n",
    "import numpy as np"
   ]
  },
  {
   "cell_type": "code",
   "execution_count": 135,
   "id": "c5eb5516",
   "metadata": {},
   "outputs": [],
   "source": [
    "import sqlite3"
   ]
  },
  {
   "cell_type": "code",
   "execution_count": 136,
   "id": "5838139e",
   "metadata": {},
   "outputs": [],
   "source": [
    "from datetime import datetime, timedelta"
   ]
  },
  {
   "cell_type": "code",
   "execution_count": 137,
   "id": "bd8eb477",
   "metadata": {},
   "outputs": [],
   "source": [
    "conn = sqlite3.connect('installments_db')"
   ]
  },
  {
   "cell_type": "code",
   "execution_count": 138,
   "id": "6ac689ea",
   "metadata": {},
   "outputs": [
    {
     "name": "stdout",
     "output_type": "stream",
     "text": [
      "0\n"
     ]
    }
   ],
   "source": [
    "print(conn.total_changes)"
   ]
  },
  {
   "cell_type": "code",
   "execution_count": 139,
   "id": "5fcc5368",
   "metadata": {},
   "outputs": [],
   "source": [
    "# Crie um cursor para executar consultas SQL\n",
    "cursor = conn.cursor()"
   ]
  },
  {
   "cell_type": "code",
   "execution_count": null,
   "id": "ebe1ad47",
   "metadata": {},
   "outputs": [],
   "source": []
  },
  {
   "cell_type": "code",
   "execution_count": 140,
   "id": "e97d161d",
   "metadata": {},
   "outputs": [
    {
     "name": "stdout",
     "output_type": "stream",
     "text": [
      "(1, '2023-05-08', 1000.0, 12, 0.05)\n",
      "(2, '2023-06-08', 800.0, 8, 0.03)\n",
      "(3, '2023-07-08', 1500.0, 10, 0.08)\n"
     ]
    }
   ],
   "source": [
    "# Execute uma consulta SQL para retornar os nomes de todas as tabelas no banco de dados\n",
    "cursor.execute(\"SELECT * FROM installments\")\n",
    "resultado = cursor.fetchall()\n",
    "\n",
    "# Imprima o resultado na tela\n",
    "for tabela in resultado:\n",
    "    print(tabela)"
   ]
  },
  {
   "cell_type": "code",
   "execution_count": null,
   "id": "6de13692",
   "metadata": {},
   "outputs": [],
   "source": []
  },
  {
   "cell_type": "markdown",
   "id": "163c23d1",
   "metadata": {},
   "source": [
    "## Faking Values MOCKED"
   ]
  },
  {
   "cell_type": "code",
   "execution_count": 141,
   "id": "ffe5eb50",
   "metadata": {},
   "outputs": [],
   "source": [
    "N_REGISTERS = 3"
   ]
  },
  {
   "cell_type": "code",
   "execution_count": 142,
   "id": "8eb9e8c2",
   "metadata": {},
   "outputs": [],
   "source": [
    "LIST_INSTALLMENTS = np.random.randint(1,25,N_REGISTERS)"
   ]
  },
  {
   "cell_type": "code",
   "execution_count": 143,
   "id": "03cdd8c2",
   "metadata": {},
   "outputs": [],
   "source": [
    "LIST_VALUES = np.random.randint(1,250,N_REGISTERS) * 10"
   ]
  },
  {
   "cell_type": "code",
   "execution_count": 144,
   "id": "38bd9297",
   "metadata": {},
   "outputs": [],
   "source": [
    "def t():\n",
    "    return (datetime(2023,1,1) - ((-1)**(np.random.randint(1000)))*timedelta(days=np.random.randint(100)))"
   ]
  },
  {
   "cell_type": "code",
   "execution_count": 145,
   "id": "959dd9d7",
   "metadata": {},
   "outputs": [],
   "source": [
    "LIST_DATES = list()\n",
    "for i in range(N_REGISTERS):\n",
    "    LIST_DATES.append(t().date())"
   ]
  },
  {
   "cell_type": "code",
   "execution_count": 146,
   "id": "6d8688cb",
   "metadata": {},
   "outputs": [],
   "source": [
    "LIST_RATES = np.random.rand(N_REGISTERS) / 10"
   ]
  },
  {
   "cell_type": "code",
   "execution_count": 147,
   "id": "d7e2d173",
   "metadata": {},
   "outputs": [],
   "source": [
    "df = pd.DataFrame({\n",
    "    'payment_id' : range(N_REGISTERS),\n",
    "    'date' : LIST_DATES,\n",
    "    'value' : LIST_VALUES,\n",
    "    'installments_number' : LIST_INSTALLMENTS,\n",
    "    'rate' : LIST_RATES\n",
    "})"
   ]
  },
  {
   "cell_type": "code",
   "execution_count": 148,
   "id": "5c59b976",
   "metadata": {},
   "outputs": [],
   "source": [
    "df['installment_value'] = round(df['value'] / df['installments_number'], 2)"
   ]
  },
  {
   "cell_type": "code",
   "execution_count": 157,
   "id": "d44bf184",
   "metadata": {},
   "outputs": [
    {
     "data": {
      "text/html": [
       "<div>\n",
       "<style scoped>\n",
       "    .dataframe tbody tr th:only-of-type {\n",
       "        vertical-align: middle;\n",
       "    }\n",
       "\n",
       "    .dataframe tbody tr th {\n",
       "        vertical-align: top;\n",
       "    }\n",
       "\n",
       "    .dataframe thead th {\n",
       "        text-align: right;\n",
       "    }\n",
       "</style>\n",
       "<table border=\"1\" class=\"dataframe\">\n",
       "  <thead>\n",
       "    <tr style=\"text-align: right;\">\n",
       "      <th></th>\n",
       "      <th>payment_id</th>\n",
       "      <th>date</th>\n",
       "      <th>value</th>\n",
       "      <th>installments_number</th>\n",
       "      <th>rate</th>\n",
       "      <th>installment_value</th>\n",
       "    </tr>\n",
       "  </thead>\n",
       "  <tbody>\n",
       "    <tr>\n",
       "      <th>0</th>\n",
       "      <td>0</td>\n",
       "      <td>2022-10-30</td>\n",
       "      <td>1460</td>\n",
       "      <td>14</td>\n",
       "      <td>0.006620</td>\n",
       "      <td>104.29</td>\n",
       "    </tr>\n",
       "    <tr>\n",
       "      <th>1</th>\n",
       "      <td>1</td>\n",
       "      <td>2022-09-28</td>\n",
       "      <td>1970</td>\n",
       "      <td>21</td>\n",
       "      <td>0.097098</td>\n",
       "      <td>93.81</td>\n",
       "    </tr>\n",
       "    <tr>\n",
       "      <th>2</th>\n",
       "      <td>2</td>\n",
       "      <td>2022-12-06</td>\n",
       "      <td>330</td>\n",
       "      <td>7</td>\n",
       "      <td>0.073726</td>\n",
       "      <td>47.14</td>\n",
       "    </tr>\n",
       "  </tbody>\n",
       "</table>\n",
       "</div>"
      ],
      "text/plain": [
       "   payment_id        date  value  installments_number      rate  \\\n",
       "0           0  2022-10-30   1460                   14  0.006620   \n",
       "1           1  2022-09-28   1970                   21  0.097098   \n",
       "2           2  2022-12-06    330                    7  0.073726   \n",
       "\n",
       "   installment_value  \n",
       "0             104.29  \n",
       "1              93.81  \n",
       "2              47.14  "
      ]
     },
     "execution_count": 157,
     "metadata": {},
     "output_type": "execute_result"
    }
   ],
   "source": [
    "df"
   ]
  },
  {
   "cell_type": "code",
   "execution_count": null,
   "id": "30a69889",
   "metadata": {},
   "outputs": [],
   "source": []
  },
  {
   "cell_type": "code",
   "execution_count": null,
   "id": "4e11ed6c",
   "metadata": {},
   "outputs": [],
   "source": []
  },
  {
   "cell_type": "markdown",
   "id": "7679eb04",
   "metadata": {},
   "source": [
    "# GETTING THE MAXIMUM DATE "
   ]
  },
  {
   "cell_type": "code",
   "execution_count": 149,
   "id": "30790d04",
   "metadata": {},
   "outputs": [],
   "source": [
    "def get_max_date(N, date):\n",
    "    MAX_DATE = (date + timedelta(days=int(N*30)))\n",
    "    return MAX_DATE"
   ]
  },
  {
   "cell_type": "code",
   "execution_count": 150,
   "id": "07376b23",
   "metadata": {},
   "outputs": [],
   "source": [
    "MAX_DATE = df.apply(lambda row : get_max_date(row['installments_number'], row['date']), axis=1).max()"
   ]
  },
  {
   "cell_type": "code",
   "execution_count": 151,
   "id": "9bc315ce",
   "metadata": {},
   "outputs": [],
   "source": [
    "# ONE MORE MONTH FOR SAFETY REASONS\n",
    "MAX_DATE = MAX_DATE + timedelta(30)"
   ]
  },
  {
   "cell_type": "code",
   "execution_count": 152,
   "id": "b5ffd59e",
   "metadata": {},
   "outputs": [],
   "source": [
    "MIN_DATE = df['date'].min()"
   ]
  },
  {
   "cell_type": "code",
   "execution_count": null,
   "id": "8d3cf0a4",
   "metadata": {},
   "outputs": [],
   "source": []
  },
  {
   "cell_type": "code",
   "execution_count": null,
   "id": "a7e68845",
   "metadata": {},
   "outputs": [],
   "source": []
  },
  {
   "cell_type": "code",
   "execution_count": 164,
   "id": "0479d320",
   "metadata": {},
   "outputs": [],
   "source": [
    "DATES = pd.date_range(MIN_DATE, MAX_DATE, freq='D').date"
   ]
  },
  {
   "cell_type": "code",
   "execution_count": 165,
   "id": "da56b3c8",
   "metadata": {},
   "outputs": [],
   "source": [
    "df_total = pd.DataFrame(columns=DATES)"
   ]
  },
  {
   "cell_type": "code",
   "execution_count": 166,
   "id": "770cbdcb",
   "metadata": {},
   "outputs": [],
   "source": [
    "# ! pip install monthdelta"
   ]
  },
  {
   "cell_type": "code",
   "execution_count": 167,
   "id": "cb461a9a",
   "metadata": {},
   "outputs": [
    {
     "data": {
      "text/html": [
       "<div>\n",
       "<style scoped>\n",
       "    .dataframe tbody tr th:only-of-type {\n",
       "        vertical-align: middle;\n",
       "    }\n",
       "\n",
       "    .dataframe tbody tr th {\n",
       "        vertical-align: top;\n",
       "    }\n",
       "\n",
       "    .dataframe thead th {\n",
       "        text-align: right;\n",
       "    }\n",
       "</style>\n",
       "<table border=\"1\" class=\"dataframe\">\n",
       "  <thead>\n",
       "    <tr style=\"text-align: right;\">\n",
       "      <th></th>\n",
       "      <th>2022-09-28</th>\n",
       "      <th>2022-09-29</th>\n",
       "      <th>2022-09-30</th>\n",
       "      <th>2022-10-01</th>\n",
       "      <th>2022-10-02</th>\n",
       "      <th>2022-10-03</th>\n",
       "      <th>2022-10-04</th>\n",
       "      <th>2022-10-05</th>\n",
       "      <th>2022-10-06</th>\n",
       "      <th>2022-10-07</th>\n",
       "      <th>...</th>\n",
       "      <th>2024-07-10</th>\n",
       "      <th>2024-07-11</th>\n",
       "      <th>2024-07-12</th>\n",
       "      <th>2024-07-13</th>\n",
       "      <th>2024-07-14</th>\n",
       "      <th>2024-07-15</th>\n",
       "      <th>2024-07-16</th>\n",
       "      <th>2024-07-17</th>\n",
       "      <th>2024-07-18</th>\n",
       "      <th>2024-07-19</th>\n",
       "    </tr>\n",
       "  </thead>\n",
       "  <tbody>\n",
       "  </tbody>\n",
       "</table>\n",
       "<p>0 rows × 661 columns</p>\n",
       "</div>"
      ],
      "text/plain": [
       "Empty DataFrame\n",
       "Columns: [2022-09-28, 2022-09-29, 2022-09-30, 2022-10-01, 2022-10-02, 2022-10-03, 2022-10-04, 2022-10-05, 2022-10-06, 2022-10-07, 2022-10-08, 2022-10-09, 2022-10-10, 2022-10-11, 2022-10-12, 2022-10-13, 2022-10-14, 2022-10-15, 2022-10-16, 2022-10-17, 2022-10-18, 2022-10-19, 2022-10-20, 2022-10-21, 2022-10-22, 2022-10-23, 2022-10-24, 2022-10-25, 2022-10-26, 2022-10-27, 2022-10-28, 2022-10-29, 2022-10-30, 2022-10-31, 2022-11-01, 2022-11-02, 2022-11-03, 2022-11-04, 2022-11-05, 2022-11-06, 2022-11-07, 2022-11-08, 2022-11-09, 2022-11-10, 2022-11-11, 2022-11-12, 2022-11-13, 2022-11-14, 2022-11-15, 2022-11-16, 2022-11-17, 2022-11-18, 2022-11-19, 2022-11-20, 2022-11-21, 2022-11-22, 2022-11-23, 2022-11-24, 2022-11-25, 2022-11-26, 2022-11-27, 2022-11-28, 2022-11-29, 2022-11-30, 2022-12-01, 2022-12-02, 2022-12-03, 2022-12-04, 2022-12-05, 2022-12-06, 2022-12-07, 2022-12-08, 2022-12-09, 2022-12-10, 2022-12-11, 2022-12-12, 2022-12-13, 2022-12-14, 2022-12-15, 2022-12-16, 2022-12-17, 2022-12-18, 2022-12-19, 2022-12-20, 2022-12-21, 2022-12-22, 2022-12-23, 2022-12-24, 2022-12-25, 2022-12-26, 2022-12-27, 2022-12-28, 2022-12-29, 2022-12-30, 2022-12-31, 2023-01-01, 2023-01-02, 2023-01-03, 2023-01-04, 2023-01-05, ...]\n",
       "Index: []\n",
       "\n",
       "[0 rows x 661 columns]"
      ]
     },
     "execution_count": 167,
     "metadata": {},
     "output_type": "execute_result"
    }
   ],
   "source": [
    "df_total"
   ]
  },
  {
   "cell_type": "code",
   "execution_count": null,
   "id": "91759ef3",
   "metadata": {},
   "outputs": [],
   "source": []
  },
  {
   "cell_type": "code",
   "execution_count": null,
   "id": "2b0f9d58",
   "metadata": {},
   "outputs": [],
   "source": []
  },
  {
   "cell_type": "markdown",
   "id": "e9a11e56",
   "metadata": {},
   "source": [
    "# Creating individual dataframe with dates for each payment register"
   ]
  },
  {
   "cell_type": "code",
   "execution_count": 168,
   "id": "99839f80",
   "metadata": {},
   "outputs": [],
   "source": [
    "from monthdelta import monthdelta"
   ]
  },
  {
   "cell_type": "code",
   "execution_count": null,
   "id": "8ee72871",
   "metadata": {},
   "outputs": [],
   "source": []
  },
  {
   "cell_type": "code",
   "execution_count": 169,
   "id": "ac3f8193",
   "metadata": {},
   "outputs": [],
   "source": [
    "def transform_register(x):\n",
    "    # Collecting the register values\n",
    "    FIRST_DATE = x['date']\n",
    "    N = x['installments_number']\n",
    "    PAYMENT_ID = x['payment_id']\n",
    "\n",
    "    LIST_DATES_REGISTER = (pd.date_range(FIRST_DATE, periods=N, freq='MS') + timedelta(days=FIRST_DATE.day-1)).date\n",
    "\n",
    "    df_aux = pd.DataFrame({'date': LIST_DATES_REGISTER})\n",
    "    df_aux['value'] = x['installment_value']\n",
    "\n",
    "    df_aux = df_aux.pivot_table(index=None, columns='date', values='value')\n",
    "    \n",
    "    df_aux['PAYMENT_ID'] = PAYMENT_ID\n",
    "\n",
    "    return df_aux.set_index('PAYMENT_ID')"
   ]
  },
  {
   "cell_type": "code",
   "execution_count": null,
   "id": "e5031bff",
   "metadata": {},
   "outputs": [],
   "source": []
  },
  {
   "cell_type": "code",
   "execution_count": 170,
   "id": "300e6392",
   "metadata": {},
   "outputs": [],
   "source": [
    "for index, row in df.iterrows():\n",
    "    df_payment_info = transform_register(row)\n",
    "    df_total = pd.concat([df_total, df_payment_info], axis=0)"
   ]
  },
  {
   "cell_type": "code",
   "execution_count": null,
   "id": "fab90223",
   "metadata": {},
   "outputs": [],
   "source": []
  },
  {
   "cell_type": "code",
   "execution_count": 173,
   "id": "162bd8e4",
   "metadata": {},
   "outputs": [],
   "source": [
    "df_t =df_total.fillna(0)"
   ]
  },
  {
   "cell_type": "code",
   "execution_count": null,
   "id": "22c85de6",
   "metadata": {},
   "outputs": [],
   "source": []
  },
  {
   "cell_type": "code",
   "execution_count": null,
   "id": "ed803338",
   "metadata": {},
   "outputs": [],
   "source": []
  },
  {
   "cell_type": "code",
   "execution_count": null,
   "id": "321e42d0",
   "metadata": {},
   "outputs": [],
   "source": []
  },
  {
   "cell_type": "code",
   "execution_count": 182,
   "id": "77dadc4e",
   "metadata": {},
   "outputs": [],
   "source": [
    "df_to_plot = df_t.sum().reset_index().rename(columns={'index':'Data', 0:'Valor_a_Receber'})"
   ]
  },
  {
   "cell_type": "code",
   "execution_count": null,
   "id": "f02a0ae0",
   "metadata": {},
   "outputs": [],
   "source": []
  },
  {
   "cell_type": "code",
   "execution_count": 183,
   "id": "c2f7ad3e",
   "metadata": {},
   "outputs": [
    {
     "data": {
      "text/html": [
       "<div>\n",
       "<style scoped>\n",
       "    .dataframe tbody tr th:only-of-type {\n",
       "        vertical-align: middle;\n",
       "    }\n",
       "\n",
       "    .dataframe tbody tr th {\n",
       "        vertical-align: top;\n",
       "    }\n",
       "\n",
       "    .dataframe thead th {\n",
       "        text-align: right;\n",
       "    }\n",
       "</style>\n",
       "<table border=\"1\" class=\"dataframe\">\n",
       "  <thead>\n",
       "    <tr style=\"text-align: right;\">\n",
       "      <th></th>\n",
       "      <th>payment_id</th>\n",
       "      <th>date</th>\n",
       "      <th>value</th>\n",
       "      <th>installments_number</th>\n",
       "      <th>rate</th>\n",
       "      <th>installment_value</th>\n",
       "    </tr>\n",
       "  </thead>\n",
       "  <tbody>\n",
       "    <tr>\n",
       "      <th>0</th>\n",
       "      <td>0</td>\n",
       "      <td>2022-10-30</td>\n",
       "      <td>1460</td>\n",
       "      <td>14</td>\n",
       "      <td>0.006620</td>\n",
       "      <td>104.29</td>\n",
       "    </tr>\n",
       "    <tr>\n",
       "      <th>1</th>\n",
       "      <td>1</td>\n",
       "      <td>2022-09-28</td>\n",
       "      <td>1970</td>\n",
       "      <td>21</td>\n",
       "      <td>0.097098</td>\n",
       "      <td>93.81</td>\n",
       "    </tr>\n",
       "    <tr>\n",
       "      <th>2</th>\n",
       "      <td>2</td>\n",
       "      <td>2022-12-06</td>\n",
       "      <td>330</td>\n",
       "      <td>7</td>\n",
       "      <td>0.073726</td>\n",
       "      <td>47.14</td>\n",
       "    </tr>\n",
       "  </tbody>\n",
       "</table>\n",
       "</div>"
      ],
      "text/plain": [
       "   payment_id        date  value  installments_number      rate  \\\n",
       "0           0  2022-10-30   1460                   14  0.006620   \n",
       "1           1  2022-09-28   1970                   21  0.097098   \n",
       "2           2  2022-12-06    330                    7  0.073726   \n",
       "\n",
       "   installment_value  \n",
       "0             104.29  \n",
       "1              93.81  \n",
       "2              47.14  "
      ]
     },
     "execution_count": 183,
     "metadata": {},
     "output_type": "execute_result"
    }
   ],
   "source": [
    "df"
   ]
  },
  {
   "cell_type": "code",
   "execution_count": 184,
   "id": "730ea957",
   "metadata": {},
   "outputs": [
    {
     "data": {
      "text/plain": [
       "<bound method Series.unique of 30     2022-10-28\n",
       "61     2022-11-28\n",
       "63     2022-11-30\n",
       "91     2022-12-28\n",
       "93     2022-12-30\n",
       "100    2023-01-06\n",
       "122    2023-01-28\n",
       "124    2023-01-30\n",
       "131    2023-02-06\n",
       "153    2023-02-28\n",
       "155    2023-03-02\n",
       "159    2023-03-06\n",
       "181    2023-03-28\n",
       "183    2023-03-30\n",
       "190    2023-04-06\n",
       "212    2023-04-28\n",
       "214    2023-04-30\n",
       "220    2023-05-06\n",
       "242    2023-05-28\n",
       "244    2023-05-30\n",
       "251    2023-06-06\n",
       "273    2023-06-28\n",
       "275    2023-06-30\n",
       "281    2023-07-06\n",
       "303    2023-07-28\n",
       "305    2023-07-30\n",
       "334    2023-08-28\n",
       "336    2023-08-30\n",
       "365    2023-09-28\n",
       "367    2023-09-30\n",
       "395    2023-10-28\n",
       "397    2023-10-30\n",
       "426    2023-11-28\n",
       "428    2023-11-30\n",
       "456    2023-12-28\n",
       "458    2023-12-30\n",
       "487    2024-01-28\n",
       "518    2024-02-28\n",
       "547    2024-03-28\n",
       "578    2024-04-28\n",
       "608    2024-05-28\n",
       "639    2024-06-28\n",
       "Name: Data, dtype: object>"
      ]
     },
     "execution_count": 184,
     "metadata": {},
     "output_type": "execute_result"
    }
   ],
   "source": [
    "df_to_plot[df_to_plot['Valor_a_Receber'] != 0].Data.unique"
   ]
  },
  {
   "cell_type": "code",
   "execution_count": null,
   "id": "39aaa1bf",
   "metadata": {},
   "outputs": [],
   "source": []
  },
  {
   "cell_type": "code",
   "execution_count": 185,
   "id": "76aa922e",
   "metadata": {},
   "outputs": [],
   "source": [
    "import seaborn as sns\n",
    "import matplotlib.pyplot as plt"
   ]
  },
  {
   "cell_type": "code",
   "execution_count": 186,
   "id": "9b5cc32f",
   "metadata": {},
   "outputs": [],
   "source": [
    "df_to_plot = df_to_plot"
   ]
  },
  {
   "cell_type": "code",
   "execution_count": 187,
   "id": "29ced48a",
   "metadata": {},
   "outputs": [
    {
     "data": {
      "image/png": "[encoded data removed]",
      "text/plain": [
       "<Figure size 2000x1000 with 1 Axes>"
      ]
     },
     "metadata": {},
     "output_type": "display_data"
    }
   ],
   "source": [
    "fig, ax = plt.subplots(figsize=(20,10))\n",
    "\n",
    "# Criar um gráfico de barra elegante usando Seaborn\n",
    "sns.set(style='whitegrid') # define o estilo do gráfico\n",
    "ax = sns.barplot(x=df_to_plot.Data, y=df_to_plot['Valor_a_Receber'], data=df) # cria o gráfico de barra\n",
    "\n",
    "# Personalizar o gráfico\n",
    "ax.set(xlabel='Data', ylabel='Valor', title='Gráfico de barra elegante')\n",
    "sns.despine(left=True, bottom=True) # remove as bordas do gráfico\n",
    "plt.xticks(rotation=90, ha='right') # gira e alinha as datas no eixo x\n",
    "\n",
    "# Exibir o gráfico\n",
    "plt.show()"
   ]
  },
  {
   "cell_type": "code",
   "execution_count": null,
   "id": "0a69cb98",
   "metadata": {},
   "outputs": [],
   "source": []
  },
  {
   "cell_type": "code",
   "execution_count": null,
   "id": "ef3bfe0c",
   "metadata": {},
   "outputs": [],
   "source": []
  },
  {
   "cell_type": "code",
   "execution_count": null,
   "id": "59347526",
   "metadata": {},
   "outputs": [],
   "source": []
  },
  {
   "cell_type": "code",
   "execution_count": null,
   "id": "b692d182",
   "metadata": {},
   "outputs": [],
   "source": []
  },
  {
   "cell_type": "code",
   "execution_count": null,
   "id": "b1ed3632",
   "metadata": {},
   "outputs": [],
   "source": []
  },
  {
   "cell_type": "code",
   "execution_count": null,
   "id": "a46f20f6",
   "metadata": {},
   "outputs": [],
   "source": []
  },
  {
   "cell_type": "code",
   "execution_count": null,
   "id": "988d8b61",
   "metadata": {},
   "outputs": [],
   "source": []
  },
  {
   "cell_type": "code",
   "execution_count": null,
   "id": "2da37d30",
   "metadata": {},
   "outputs": [],
   "source": []
  },
  {
   "cell_type": "code",
   "execution_count": null,
   "id": "859b5809",
   "metadata": {},
   "outputs": [],
   "source": []
  },
  {
   "cell_type": "code",
   "execution_count": null,
   "id": "5698dad3",
   "metadata": {},
   "outputs": [],
   "source": []
  },
  {
   "cell_type": "code",
   "execution_count": null,
   "id": "5cb519c8",
   "metadata": {},
   "outputs": [],
   "source": []
  },
  {
   "cell_type": "code",
   "execution_count": null,
   "id": "7297d375",
   "metadata": {},
   "outputs": [],
   "source": []
  },
  {
   "cell_type": "code",
   "execution_count": null,
   "id": "39f1ed0d",
   "metadata": {},
   "outputs": [],
   "source": []
  },
  {
   "cell_type": "code",
   "execution_count": null,
   "id": "eea19d6d",
   "metadata": {},
   "outputs": [],
   "source": []
  },
  {
   "cell_type": "code",
   "execution_count": null,
   "id": "666f6e34",
   "metadata": {},
   "outputs": [],
   "source": []
  },
  {
   "cell_type": "code",
   "execution_count": null,
   "id": "322fcc44",
   "metadata": {},
   "outputs": [],
   "source": []
  },
  {
   "cell_type": "code",
   "execution_count": null,
   "id": "fa5a85e0",
   "metadata": {},
   "outputs": [],
   "source": []
  },
  {
   "cell_type": "code",
   "execution_count": null,
   "id": "001328fa",
   "metadata": {},
   "outputs": [],
   "source": []
  },
  {
   "cell_type": "code",
   "execution_count": null,
   "id": "4bcc7fe4",
   "metadata": {},
   "outputs": [],
   "source": []
  },
  {
   "cell_type": "code",
   "execution_count": null,
   "id": "4c2ff37a",
   "metadata": {},
   "outputs": [],
   "source": []
  }
 ],
 "metadata": {
  "kernelspec": {
   "display_name": "Python 3 (ipykernel)",
   "language": "python",
   "name": "python3"
  },
  "language_info": {
   "codemirror_mode": {
    "name": "ipython",
    "version": 3
   },
   "file_extension": ".py",
   "mimetype": "text/x-python",
   "name": "python",
   "nbconvert_exporter": "python",
   "pygments_lexer": "ipython3",
   "version": "3.10.9"
  }
 },
 "nbformat": 4,
 "nbformat_minor": 5
}
