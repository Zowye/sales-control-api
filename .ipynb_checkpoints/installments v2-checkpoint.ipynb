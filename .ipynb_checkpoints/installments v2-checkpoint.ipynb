{
 "cells": [
  {
   "cell_type": "code",
   "execution_count": 1,
   "id": "3a10a91b",
   "metadata": {},
   "outputs": [],
   "source": [
    "import pandas as pd\n",
    "import numpy as np"
   ]
  },
  {
   "cell_type": "code",
   "execution_count": 2,
   "id": "c5eb5516",
   "metadata": {},
   "outputs": [],
   "source": [
    "import sqlite3"
   ]
  },
  {
   "cell_type": "code",
   "execution_count": 3,
   "id": "5838139e",
   "metadata": {},
   "outputs": [],
   "source": [
    "from datetime import datetime, timedelta"
   ]
  },
  {
   "cell_type": "code",
   "execution_count": 4,
   "id": "bd8eb477",
   "metadata": {},
   "outputs": [],
   "source": [
    "conn = sqlite3.connect('installments_db')"
   ]
  },
  {
   "cell_type": "code",
   "execution_count": 5,
   "id": "6ac689ea",
   "metadata": {},
   "outputs": [
    {
     "name": "stdout",
     "output_type": "stream",
     "text": [
      "0\n"
     ]
    }
   ],
   "source": [
    "print(conn.total_changes)"
   ]
  },
  {
   "cell_type": "code",
   "execution_count": 6,
   "id": "5fcc5368",
   "metadata": {},
   "outputs": [],
   "source": [
    "# Crie um cursor para executar consultas SQL\n",
    "cursor = conn.cursor()"
   ]
  },
  {
   "cell_type": "code",
   "execution_count": null,
   "id": "ebe1ad47",
   "metadata": {},
   "outputs": [],
   "source": []
  },
  {
   "cell_type": "code",
   "execution_count": 7,
   "id": "e97d161d",
   "metadata": {},
   "outputs": [
    {
     "name": "stdout",
     "output_type": "stream",
     "text": [
      "(1, '2023-05-08', 1000.0, 12, 0.05)\n",
      "(2, '2023-06-08', 800.0, 8, 0.03)\n",
      "(3, '2023-07-08', 1500.0, 10, 0.08)\n"
     ]
    }
   ],
   "source": [
    "# Execute uma consulta SQL para retornar os nomes de todas as tabelas no banco de dados\n",
    "cursor.execute(\"SELECT * FROM installments\")\n",
    "resultado = cursor.fetchall()\n",
    "\n",
    "# Imprima o resultado na tela\n",
    "for tabela in resultado:\n",
    "    print(tabela)"
   ]
  },
  {
   "cell_type": "code",
   "execution_count": 8,
   "id": "6de13692",
   "metadata": {},
   "outputs": [
    {
     "data": {
      "text/plain": [
       "datetime.date(2022, 12, 22)"
      ]
     },
     "execution_count": 8,
     "metadata": {},
     "output_type": "execute_result"
    }
   ],
   "source": [
    "datetime(2023,1,1).date() - timedelta(days=10)"
   ]
  },
  {
   "cell_type": "code",
   "execution_count": null,
   "id": "73be62a2",
   "metadata": {},
   "outputs": [],
   "source": []
  },
  {
   "cell_type": "code",
   "execution_count": 9,
   "id": "8eb9e8c2",
   "metadata": {},
   "outputs": [],
   "source": [
    "LIST_INSTALLMENTS = np.random.randint(1,25,100)"
   ]
  },
  {
   "cell_type": "code",
   "execution_count": 10,
   "id": "03cdd8c2",
   "metadata": {},
   "outputs": [],
   "source": [
    "LIST_VALUES = np.random.randint(1,250,100) * 10"
   ]
  },
  {
   "cell_type": "code",
   "execution_count": 11,
   "id": "38bd9297",
   "metadata": {},
   "outputs": [],
   "source": [
    "def t():\n",
    "    return (datetime(2023,1,1) - ((-1)**(np.random.randint(1000)))*timedelta(days=np.random.randint(100)))"
   ]
  },
  {
   "cell_type": "code",
   "execution_count": 12,
   "id": "959dd9d7",
   "metadata": {},
   "outputs": [],
   "source": [
    "LIST_DATES = list()\n",
    "for i in range(100):\n",
    "    LIST_DATES.append(t().date())"
   ]
  },
  {
   "cell_type": "code",
   "execution_count": null,
   "id": "a6ded3f6",
   "metadata": {},
   "outputs": [],
   "source": []
  },
  {
   "cell_type": "code",
   "execution_count": 14,
   "id": "6d8688cb",
   "metadata": {},
   "outputs": [],
   "source": [
    "LIST_RATES = np.random.rand(100) / 10"
   ]
  },
  {
   "cell_type": "code",
   "execution_count": null,
   "id": "6cbeb000",
   "metadata": {},
   "outputs": [],
   "source": []
  },
  {
   "cell_type": "code",
   "execution_count": null,
   "id": "77f287ef",
   "metadata": {},
   "outputs": [],
   "source": []
  },
  {
   "cell_type": "code",
   "execution_count": 17,
   "id": "d7e2d173",
   "metadata": {},
   "outputs": [],
   "source": [
    "df = pd.DataFrame({\n",
    "    'date' : LIST_DATES,\n",
    "    'value' : LIST_VALUES,\n",
    "    'installments_number' : LIST_INSTALLMENTS,\n",
    "    'rate' : LIST_RATES\n",
    "})"
   ]
  },
  {
   "cell_type": "code",
   "execution_count": 18,
   "id": "5c59b976",
   "metadata": {},
   "outputs": [],
   "source": [
    "df['installment_value'] = round(df['value'] / df['installments_number'], 2)"
   ]
  },
  {
   "cell_type": "code",
   "execution_count": 152,
   "id": "d44bf184",
   "metadata": {},
   "outputs": [
    {
     "data": {
      "text/html": [
       "<div>\n",
       "<style scoped>\n",
       "    .dataframe tbody tr th:only-of-type {\n",
       "        vertical-align: middle;\n",
       "    }\n",
       "\n",
       "    .dataframe tbody tr th {\n",
       "        vertical-align: top;\n",
       "    }\n",
       "\n",
       "    .dataframe thead th {\n",
       "        text-align: right;\n",
       "    }\n",
       "</style>\n",
       "<table border=\"1\" class=\"dataframe\">\n",
       "  <thead>\n",
       "    <tr style=\"text-align: right;\">\n",
       "      <th></th>\n",
       "      <th>date</th>\n",
       "      <th>value</th>\n",
       "      <th>installments_number</th>\n",
       "      <th>rate</th>\n",
       "      <th>installment_value</th>\n",
       "    </tr>\n",
       "  </thead>\n",
       "  <tbody>\n",
       "    <tr>\n",
       "      <th>0</th>\n",
       "      <td>2022-12-07</td>\n",
       "      <td>400</td>\n",
       "      <td>4</td>\n",
       "      <td>0.020361</td>\n",
       "      <td>100.00</td>\n",
       "    </tr>\n",
       "    <tr>\n",
       "      <th>1</th>\n",
       "      <td>2023-03-16</td>\n",
       "      <td>610</td>\n",
       "      <td>11</td>\n",
       "      <td>0.048174</td>\n",
       "      <td>55.45</td>\n",
       "    </tr>\n",
       "    <tr>\n",
       "      <th>2</th>\n",
       "      <td>2023-01-02</td>\n",
       "      <td>1100</td>\n",
       "      <td>5</td>\n",
       "      <td>0.086600</td>\n",
       "      <td>220.00</td>\n",
       "    </tr>\n",
       "    <tr>\n",
       "      <th>3</th>\n",
       "      <td>2023-02-03</td>\n",
       "      <td>2340</td>\n",
       "      <td>8</td>\n",
       "      <td>0.088436</td>\n",
       "      <td>292.50</td>\n",
       "    </tr>\n",
       "    <tr>\n",
       "      <th>4</th>\n",
       "      <td>2023-01-18</td>\n",
       "      <td>1620</td>\n",
       "      <td>18</td>\n",
       "      <td>0.055490</td>\n",
       "      <td>90.00</td>\n",
       "    </tr>\n",
       "    <tr>\n",
       "      <th>...</th>\n",
       "      <td>...</td>\n",
       "      <td>...</td>\n",
       "      <td>...</td>\n",
       "      <td>...</td>\n",
       "      <td>...</td>\n",
       "    </tr>\n",
       "    <tr>\n",
       "      <th>95</th>\n",
       "      <td>2023-03-27</td>\n",
       "      <td>2080</td>\n",
       "      <td>17</td>\n",
       "      <td>0.061474</td>\n",
       "      <td>122.35</td>\n",
       "    </tr>\n",
       "    <tr>\n",
       "      <th>96</th>\n",
       "      <td>2022-12-10</td>\n",
       "      <td>220</td>\n",
       "      <td>10</td>\n",
       "      <td>0.081463</td>\n",
       "      <td>22.00</td>\n",
       "    </tr>\n",
       "    <tr>\n",
       "      <th>97</th>\n",
       "      <td>2023-01-08</td>\n",
       "      <td>1270</td>\n",
       "      <td>7</td>\n",
       "      <td>0.059764</td>\n",
       "      <td>181.43</td>\n",
       "    </tr>\n",
       "    <tr>\n",
       "      <th>98</th>\n",
       "      <td>2022-12-13</td>\n",
       "      <td>1680</td>\n",
       "      <td>12</td>\n",
       "      <td>0.053937</td>\n",
       "      <td>140.00</td>\n",
       "    </tr>\n",
       "    <tr>\n",
       "      <th>99</th>\n",
       "      <td>2023-02-13</td>\n",
       "      <td>1210</td>\n",
       "      <td>20</td>\n",
       "      <td>0.052438</td>\n",
       "      <td>60.50</td>\n",
       "    </tr>\n",
       "  </tbody>\n",
       "</table>\n",
       "<p>100 rows × 5 columns</p>\n",
       "</div>"
      ],
      "text/plain": [
       "          date  value  installments_number      rate  installment_value\n",
       "0   2022-12-07    400                    4  0.020361             100.00\n",
       "1   2023-03-16    610                   11  0.048174              55.45\n",
       "2   2023-01-02   1100                    5  0.086600             220.00\n",
       "3   2023-02-03   2340                    8  0.088436             292.50\n",
       "4   2023-01-18   1620                   18  0.055490              90.00\n",
       "..         ...    ...                  ...       ...                ...\n",
       "95  2023-03-27   2080                   17  0.061474             122.35\n",
       "96  2022-12-10    220                   10  0.081463              22.00\n",
       "97  2023-01-08   1270                    7  0.059764             181.43\n",
       "98  2022-12-13   1680                   12  0.053937             140.00\n",
       "99  2023-02-13   1210                   20  0.052438              60.50\n",
       "\n",
       "[100 rows x 5 columns]"
      ]
     },
     "execution_count": 152,
     "metadata": {},
     "output_type": "execute_result"
    }
   ],
   "source": [
    "df"
   ]
  },
  {
   "cell_type": "code",
   "execution_count": null,
   "id": "666f6e34",
   "metadata": {},
   "outputs": [],
   "source": []
  },
  {
   "cell_type": "code",
   "execution_count": 32,
   "id": "3c939d20",
   "metadata": {},
   "outputs": [],
   "source": [
    "x = [1,2,3,4,5]\n",
    "y = ['a', 'b', 'c', 'd', 'e']"
   ]
  },
  {
   "cell_type": "code",
   "execution_count": 35,
   "id": "b8c435c1",
   "metadata": {},
   "outputs": [],
   "source": [
    "a = pd.DataFrame({'x':x, 'y':y})\n",
    "b = pd.DataFrame({'w':x, 'y':y})"
   ]
  },
  {
   "cell_type": "code",
   "execution_count": null,
   "id": "bf93863d",
   "metadata": {},
   "outputs": [],
   "source": [
    "pd.concat([a,b], axis=0)"
   ]
  },
  {
   "cell_type": "code",
   "execution_count": null,
   "id": "ae898e49",
   "metadata": {},
   "outputs": [],
   "source": []
  },
  {
   "cell_type": "code",
   "execution_count": 43,
   "id": "8c80cbfa",
   "metadata": {},
   "outputs": [],
   "source": [
    "first_date = row['date']\n",
    "installments_number = row['installments_number']\n",
    "\n",
    "df_aux = pd.DataFrame()\n",
    "\n",
    "df_aux['date'] = pd.date_range(first_date, periods=installments_number, freq='MS')\n",
    "df_aux['month_value'] = row['installment_value']"
   ]
  },
  {
   "cell_type": "code",
   "execution_count": null,
   "id": "1ba4126c",
   "metadata": {},
   "outputs": [],
   "source": []
  },
  {
   "cell_type": "code",
   "execution_count": 142,
   "id": "07b31bc1",
   "metadata": {},
   "outputs": [
    {
     "data": {
      "text/plain": [
       "99"
      ]
     },
     "execution_count": 142,
     "metadata": {},
     "output_type": "execute_result"
    }
   ],
   "source": [
    "payment_id"
   ]
  },
  {
   "cell_type": "code",
   "execution_count": 161,
   "id": "1b00ee1f",
   "metadata": {},
   "outputs": [],
   "source": [
    "df_total = pd.DataFrame()\n",
    "df_total['date'] = 0"
   ]
  },
  {
   "cell_type": "code",
   "execution_count": 162,
   "id": "da5c7c55",
   "metadata": {
    "scrolled": false
   },
   "outputs": [],
   "source": [
    "for index, row in df.iterrows():\n",
    "    first_date = row['date']\n",
    "    installments_number = row['installments_number']\n",
    "    payment_id = index\n",
    "    \n",
    "    df_aux = pd.DataFrame()\n",
    "    \n",
    "    df_aux['date'] = pd.date_range(first_date, periods=installments_number, freq='MS').strftime('%Y-%m-%d')\n",
    "    df_aux['month_value'] = row['installment_value']\n",
    "    df_aux['payment_id'] = payment_id\n",
    "    \n",
    "    df_aux = df_aux.pivot_table(index=None, columns='date', values='month_value')\n",
    "    df_aux['payment_id'] = payment_id\n",
    "    df_aux = df_aux.set_index('payment_id')\n",
    "    \n",
    "    df_total = pd.concat([df_total, df_aux], axis=0)"
   ]
  },
  {
   "cell_type": "code",
   "execution_count": null,
   "id": "8745695c",
   "metadata": {},
   "outputs": [],
   "source": []
  },
  {
   "cell_type": "code",
   "execution_count": 163,
   "id": "ac439a41",
   "metadata": {},
   "outputs": [],
   "source": [
    "df_total = df_total.drop('date', axis=1).fillna(0)"
   ]
  },
  {
   "cell_type": "code",
   "execution_count": null,
   "id": "6e54b5c2",
   "metadata": {},
   "outputs": [],
   "source": []
  },
  {
   "cell_type": "code",
   "execution_count": null,
   "id": "e0fdd2c9",
   "metadata": {},
   "outputs": [],
   "source": []
  },
  {
   "cell_type": "code",
   "execution_count": null,
   "id": "5cdeb53d",
   "metadata": {},
   "outputs": [],
   "source": []
  },
  {
   "cell_type": "code",
   "execution_count": null,
   "id": "91382245",
   "metadata": {},
   "outputs": [],
   "source": []
  },
  {
   "cell_type": "code",
   "execution_count": null,
   "id": "48d9424b",
   "metadata": {},
   "outputs": [],
   "source": []
  },
  {
   "cell_type": "code",
   "execution_count": null,
   "id": "790e7ac3",
   "metadata": {},
   "outputs": [],
   "source": []
  },
  {
   "cell_type": "code",
   "execution_count": null,
   "id": "cad949b1",
   "metadata": {},
   "outputs": [],
   "source": []
  },
  {
   "cell_type": "code",
   "execution_count": null,
   "id": "4c21e257",
   "metadata": {},
   "outputs": [],
   "source": []
  },
  {
   "cell_type": "code",
   "execution_count": null,
   "id": "cadb0d40",
   "metadata": {},
   "outputs": [],
   "source": []
  },
  {
   "cell_type": "code",
   "execution_count": null,
   "id": "d63a22e8",
   "metadata": {},
   "outputs": [],
   "source": []
  },
  {
   "cell_type": "code",
   "execution_count": null,
   "id": "db71c4c8",
   "metadata": {},
   "outputs": [],
   "source": []
  },
  {
   "cell_type": "code",
   "execution_count": null,
   "id": "87527868",
   "metadata": {},
   "outputs": [],
   "source": []
  },
  {
   "cell_type": "code",
   "execution_count": null,
   "id": "6044e97c",
   "metadata": {},
   "outputs": [],
   "source": []
  },
  {
   "cell_type": "code",
   "execution_count": null,
   "id": "f3abba86",
   "metadata": {},
   "outputs": [],
   "source": []
  },
  {
   "cell_type": "code",
   "execution_count": null,
   "id": "a3a27c9d",
   "metadata": {},
   "outputs": [],
   "source": []
  },
  {
   "cell_type": "code",
   "execution_count": null,
   "id": "8e0dca88",
   "metadata": {},
   "outputs": [],
   "source": []
  },
  {
   "cell_type": "code",
   "execution_count": 28,
   "id": "980403cb",
   "metadata": {},
   "outputs": [
    {
     "ename": "OperationalError",
     "evalue": "no such table: installments",
     "output_type": "error",
     "traceback": [
      "\u001b[1;31m---------------------------------------------------------------------------\u001b[0m",
      "\u001b[1;31mOperationalError\u001b[0m                          Traceback (most recent call last)",
      "Cell \u001b[1;32mIn[28], line 1\u001b[0m\n\u001b[1;32m----> 1\u001b[0m \u001b[43mcursor\u001b[49m\u001b[38;5;241;43m.\u001b[39;49m\u001b[43mexecute\u001b[49m\u001b[43m(\u001b[49m\u001b[38;5;124;43m\"\"\"\u001b[39;49m\n\u001b[0;32m      2\u001b[0m \u001b[38;5;124;43m    INSERT INTO installments (date, value, installments_number, rate)\u001b[39;49m\n\u001b[0;32m      3\u001b[0m \u001b[38;5;124;43m    VALUES (\u001b[39;49m\u001b[38;5;124;43m'\u001b[39;49m\u001b[38;5;124;43m2023-05-08\u001b[39;49m\u001b[38;5;124;43m'\u001b[39;49m\u001b[38;5;124;43m, 1000.00, 12, 0.05),\u001b[39;49m\n\u001b[0;32m      4\u001b[0m \u001b[38;5;124;43m           (\u001b[39;49m\u001b[38;5;124;43m'\u001b[39;49m\u001b[38;5;124;43m2023-06-08\u001b[39;49m\u001b[38;5;124;43m'\u001b[39;49m\u001b[38;5;124;43m, 800.00, 8, 0.03),\u001b[39;49m\n\u001b[0;32m      5\u001b[0m \u001b[38;5;124;43m           (\u001b[39;49m\u001b[38;5;124;43m'\u001b[39;49m\u001b[38;5;124;43m2023-07-08\u001b[39;49m\u001b[38;5;124;43m'\u001b[39;49m\u001b[38;5;124;43m, 1500.00, 10, 0.08);\u001b[39;49m\n\u001b[0;32m      6\u001b[0m \u001b[38;5;124;43m    \u001b[39;49m\u001b[38;5;124;43m\"\"\"\u001b[39;49m\u001b[43m)\u001b[49m\n",
      "\u001b[1;31mOperationalError\u001b[0m: no such table: installments"
     ]
    }
   ],
   "source": [
    "cursor.execute(\"\"\"\n",
    "    INSERT INTO installments (date, value, installments_number, rate)\n",
    "    VALUES ('2023-05-08', 1000.00, 12, 0.05),\n",
    "           ('2023-06-08', 800.00, 8, 0.03),\n",
    "           ('2023-07-08', 1500.00, 10, 0.08);\n",
    "    \"\"\")"
   ]
  },
  {
   "cell_type": "code",
   "execution_count": null,
   "id": "39920c18",
   "metadata": {},
   "outputs": [],
   "source": []
  },
  {
   "cell_type": "code",
   "execution_count": null,
   "id": "43920943",
   "metadata": {},
   "outputs": [],
   "source": []
  },
  {
   "cell_type": "code",
   "execution_count": null,
   "id": "020433f4",
   "metadata": {},
   "outputs": [],
   "source": []
  },
  {
   "cell_type": "code",
   "execution_count": null,
   "id": "322fcc44",
   "metadata": {},
   "outputs": [],
   "source": []
  },
  {
   "cell_type": "code",
   "execution_count": null,
   "id": "fa5a85e0",
   "metadata": {},
   "outputs": [],
   "source": []
  },
  {
   "cell_type": "code",
   "execution_count": null,
   "id": "001328fa",
   "metadata": {},
   "outputs": [],
   "source": []
  },
  {
   "cell_type": "code",
   "execution_count": null,
   "id": "4bcc7fe4",
   "metadata": {},
   "outputs": [],
   "source": []
  },
  {
   "cell_type": "code",
   "execution_count": null,
   "id": "4c2ff37a",
   "metadata": {},
   "outputs": [],
   "source": []
  }
 ],
 "metadata": {
  "kernelspec": {
   "display_name": "Python 3 (ipykernel)",
   "language": "python",
   "name": "python3"
  },
  "language_info": {
   "codemirror_mode": {
    "name": "ipython",
    "version": 3
   },
   "file_extension": ".py",
   "mimetype": "text/x-python",
   "name": "python",
   "nbconvert_exporter": "python",
   "pygments_lexer": "ipython3",
   "version": "3.10.9"
  }
 },
 "nbformat": 4,
 "nbformat_minor": 5
}
